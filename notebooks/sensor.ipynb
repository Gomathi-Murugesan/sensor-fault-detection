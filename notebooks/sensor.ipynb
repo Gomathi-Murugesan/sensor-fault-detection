{
 "cells": [
  {
   "cell_type": "markdown",
   "id": "c5d3e578",
   "metadata": {},
   "source": [
    "# Sensor Component Fault Detection"
   ]
  },
  {
   "cell_type": "markdown",
   "id": "b7cb297a",
   "metadata": {},
   "source": [
    "## Problem Statement\n",
    "\n",
    "**Data:** Sensor Data\n",
    "\n",
    "**Problem Description**\n",
    "- The Air Pressure System (APS) plays a critical role in heavy Scania trucks. APS generates pressurized air that is used in various critical functions such as braking and gear changing. This project predicts whether the failure is due to APS system or not.\n",
    "- The sensor dataset gives categorical output with two classes, positive and negative\n",
    "- The positive class corresponds to failure due to the components of the APS system\n",
    "- The negative class corresponds to the failure not related to the APS system\n",
    "\n"
   ]
  },
  {
   "cell_type": "markdown",
   "id": "2bad1152",
   "metadata": {},
   "source": [
    "|True class | Positive | Negative | |\n",
    "| ----------- | ----------- |   |  |\n",
    "|<b>Predicted class</b>||| |\n",
    "| Positive      |   -       | cost_1  |    |\n",
    "| Negative   | cost_2        |  | |\n",
    "\n",
    "\n",
    "cost_1(FP) = 10 and cost_2(FN)= 500\n",
    "\n"
   ]
  },
  {
   "cell_type": "markdown",
   "id": "06c8e297",
   "metadata": {},
   "source": [
    "- cost_1 belongs to False Positive and cost_2 belongs to False Negative\n",
    "- False Positive - unnecessary check needs to be done by mechanics\n",
    "- False Negative - missing to predict the fault, which may cause a breakdown\n",
    "- Total cost = cost_1 * number_of_instance with type1 failure + cost_2 * number_of_instance with type2 failure\n",
    "- The problem is to reduce the unnecessary repair costs. So its required to reduce the False predictions.\n",
    "- Most importanly, we have to reduce the False Negative, since cost incurred due to FN is 50 times more than the FP"
   ]
  },
  {
   "cell_type": "markdown",
   "id": "bc505f6c",
   "metadata": {},
   "source": [
    "## Challenges and objectives\n",
    "- Need to handle the missing values in all the columns\n",
    "- Misclassification leads to unwanted repair costs."
   ]
  },
  {
   "cell_type": "code",
   "execution_count": 2,
   "id": "0cc4934b",
   "metadata": {},
   "outputs": [],
   "source": [
    "import pandas as pd\n",
    "import numpy as np\n",
    "import matplotlib.pyplot as plt\n",
    "import seaborn as sn\n",
    "%matplotlib inline"
   ]
  },
  {
   "cell_type": "markdown",
   "id": "4089175a",
   "metadata": {},
   "source": [
    "## Read the data from the csv file"
   ]
  },
  {
   "cell_type": "code",
   "execution_count": 3,
   "id": "d94eec14",
   "metadata": {},
   "outputs": [],
   "source": [
    "# read the csv file and load them into a dataframe\n",
    "df = pd.read_csv('../data/sensor.csv')"
   ]
  },
  {
   "cell_type": "code",
   "execution_count": 4,
   "id": "59d4c64a",
   "metadata": {},
   "outputs": [
    {
     "data": {
      "text/html": [
       "<div>\n",
       "<style scoped>\n",
       "    .dataframe tbody tr th:only-of-type {\n",
       "        vertical-align: middle;\n",
       "    }\n",
       "\n",
       "    .dataframe tbody tr th {\n",
       "        vertical-align: top;\n",
       "    }\n",
       "\n",
       "    .dataframe thead th {\n",
       "        text-align: right;\n",
       "    }\n",
       "</style>\n",
       "<table border=\"1\" class=\"dataframe\">\n",
       "  <thead>\n",
       "    <tr style=\"text-align: right;\">\n",
       "      <th></th>\n",
       "      <th>class</th>\n",
       "      <th>aa_000</th>\n",
       "      <th>ab_000</th>\n",
       "      <th>ac_000</th>\n",
       "      <th>ad_000</th>\n",
       "      <th>ae_000</th>\n",
       "      <th>af_000</th>\n",
       "      <th>ag_000</th>\n",
       "      <th>ag_001</th>\n",
       "      <th>ag_002</th>\n",
       "      <th>...</th>\n",
       "      <th>ee_002</th>\n",
       "      <th>ee_003</th>\n",
       "      <th>ee_004</th>\n",
       "      <th>ee_005</th>\n",
       "      <th>ee_006</th>\n",
       "      <th>ee_007</th>\n",
       "      <th>ee_008</th>\n",
       "      <th>ee_009</th>\n",
       "      <th>ef_000</th>\n",
       "      <th>eg_000</th>\n",
       "    </tr>\n",
       "  </thead>\n",
       "  <tbody>\n",
       "    <tr>\n",
       "      <th>0</th>\n",
       "      <td>pos</td>\n",
       "      <td>912384</td>\n",
       "      <td>NaN</td>\n",
       "      <td>NaN</td>\n",
       "      <td>NaN</td>\n",
       "      <td>NaN</td>\n",
       "      <td>NaN</td>\n",
       "      <td>0.0</td>\n",
       "      <td>0.0</td>\n",
       "      <td>0.0</td>\n",
       "      <td>...</td>\n",
       "      <td>7958290.0</td>\n",
       "      <td>3800292.0</td>\n",
       "      <td>8566444.0</td>\n",
       "      <td>8613822.0</td>\n",
       "      <td>5996898.0</td>\n",
       "      <td>2777986.0</td>\n",
       "      <td>2539192.0</td>\n",
       "      <td>49268.0</td>\n",
       "      <td>NaN</td>\n",
       "      <td>NaN</td>\n",
       "    </tr>\n",
       "    <tr>\n",
       "      <th>1</th>\n",
       "      <td>pos</td>\n",
       "      <td>281324</td>\n",
       "      <td>2.0</td>\n",
       "      <td>3762.0</td>\n",
       "      <td>2346.0</td>\n",
       "      <td>0.0</td>\n",
       "      <td>0.0</td>\n",
       "      <td>4808.0</td>\n",
       "      <td>215720.0</td>\n",
       "      <td>967572.0</td>\n",
       "      <td>...</td>\n",
       "      <td>624606.0</td>\n",
       "      <td>269976.0</td>\n",
       "      <td>638838.0</td>\n",
       "      <td>1358354.0</td>\n",
       "      <td>819918.0</td>\n",
       "      <td>262804.0</td>\n",
       "      <td>2824.0</td>\n",
       "      <td>0.0</td>\n",
       "      <td>0.0</td>\n",
       "      <td>0.0</td>\n",
       "    </tr>\n",
       "    <tr>\n",
       "      <th>2</th>\n",
       "      <td>pos</td>\n",
       "      <td>1086734</td>\n",
       "      <td>NaN</td>\n",
       "      <td>NaN</td>\n",
       "      <td>NaN</td>\n",
       "      <td>0.0</td>\n",
       "      <td>0.0</td>\n",
       "      <td>0.0</td>\n",
       "      <td>0.0</td>\n",
       "      <td>0.0</td>\n",
       "      <td>...</td>\n",
       "      <td>10418606.0</td>\n",
       "      <td>5879290.0</td>\n",
       "      <td>12787218.0</td>\n",
       "      <td>11547080.0</td>\n",
       "      <td>5935580.0</td>\n",
       "      <td>1598690.0</td>\n",
       "      <td>932418.0</td>\n",
       "      <td>22944.0</td>\n",
       "      <td>0.0</td>\n",
       "      <td>0.0</td>\n",
       "    </tr>\n",
       "    <tr>\n",
       "      <th>3</th>\n",
       "      <td>pos</td>\n",
       "      <td>176346</td>\n",
       "      <td>0.0</td>\n",
       "      <td>6982.0</td>\n",
       "      <td>5922.0</td>\n",
       "      <td>0.0</td>\n",
       "      <td>0.0</td>\n",
       "      <td>0.0</td>\n",
       "      <td>0.0</td>\n",
       "      <td>65836.0</td>\n",
       "      <td>...</td>\n",
       "      <td>2428526.0</td>\n",
       "      <td>720862.0</td>\n",
       "      <td>1189150.0</td>\n",
       "      <td>1710512.0</td>\n",
       "      <td>1018248.0</td>\n",
       "      <td>626354.0</td>\n",
       "      <td>32208.0</td>\n",
       "      <td>0.0</td>\n",
       "      <td>0.0</td>\n",
       "      <td>0.0</td>\n",
       "    </tr>\n",
       "    <tr>\n",
       "      <th>4</th>\n",
       "      <td>pos</td>\n",
       "      <td>959094</td>\n",
       "      <td>2.0</td>\n",
       "      <td>288.0</td>\n",
       "      <td>266.0</td>\n",
       "      <td>0.0</td>\n",
       "      <td>0.0</td>\n",
       "      <td>0.0</td>\n",
       "      <td>0.0</td>\n",
       "      <td>0.0</td>\n",
       "      <td>...</td>\n",
       "      <td>790862.0</td>\n",
       "      <td>256590.0</td>\n",
       "      <td>566132.0</td>\n",
       "      <td>1192120.0</td>\n",
       "      <td>86112.0</td>\n",
       "      <td>16760.0</td>\n",
       "      <td>3794.0</td>\n",
       "      <td>0.0</td>\n",
       "      <td>0.0</td>\n",
       "      <td>0.0</td>\n",
       "    </tr>\n",
       "  </tbody>\n",
       "</table>\n",
       "<p>5 rows × 171 columns</p>\n",
       "</div>"
      ],
      "text/plain": [
       "  class   aa_000  ab_000  ac_000  ad_000  ae_000  af_000  ag_000    ag_001  \\\n",
       "0   pos   912384     NaN     NaN     NaN     NaN     NaN     0.0       0.0   \n",
       "1   pos   281324     2.0  3762.0  2346.0     0.0     0.0  4808.0  215720.0   \n",
       "2   pos  1086734     NaN     NaN     NaN     0.0     0.0     0.0       0.0   \n",
       "3   pos   176346     0.0  6982.0  5922.0     0.0     0.0     0.0       0.0   \n",
       "4   pos   959094     2.0   288.0   266.0     0.0     0.0     0.0       0.0   \n",
       "\n",
       "     ag_002  ...      ee_002     ee_003      ee_004      ee_005     ee_006  \\\n",
       "0       0.0  ...   7958290.0  3800292.0   8566444.0   8613822.0  5996898.0   \n",
       "1  967572.0  ...    624606.0   269976.0    638838.0   1358354.0   819918.0   \n",
       "2       0.0  ...  10418606.0  5879290.0  12787218.0  11547080.0  5935580.0   \n",
       "3   65836.0  ...   2428526.0   720862.0   1189150.0   1710512.0  1018248.0   \n",
       "4       0.0  ...    790862.0   256590.0    566132.0   1192120.0    86112.0   \n",
       "\n",
       "      ee_007     ee_008   ee_009  ef_000  eg_000  \n",
       "0  2777986.0  2539192.0  49268.0     NaN     NaN  \n",
       "1   262804.0     2824.0      0.0     0.0     0.0  \n",
       "2  1598690.0   932418.0  22944.0     0.0     0.0  \n",
       "3   626354.0    32208.0      0.0     0.0     0.0  \n",
       "4    16760.0     3794.0      0.0     0.0     0.0  \n",
       "\n",
       "[5 rows x 171 columns]"
      ]
     },
     "execution_count": 4,
     "metadata": {},
     "output_type": "execute_result"
    }
   ],
   "source": [
    "df.head()"
   ]
  },
  {
   "cell_type": "code",
   "execution_count": 5,
   "id": "fa3b8068",
   "metadata": {},
   "outputs": [
    {
     "data": {
      "text/plain": [
       "Index(['class', 'aa_000', 'ab_000', 'ac_000', 'ad_000', 'ae_000', 'af_000',\n",
       "       'ag_000', 'ag_001', 'ag_002',\n",
       "       ...\n",
       "       'ee_002', 'ee_003', 'ee_004', 'ee_005', 'ee_006', 'ee_007', 'ee_008',\n",
       "       'ee_009', 'ef_000', 'eg_000'],\n",
       "      dtype='object', length=171)"
      ]
     },
     "execution_count": 5,
     "metadata": {},
     "output_type": "execute_result"
    }
   ],
   "source": [
    "df.columns"
   ]
  },
  {
   "cell_type": "code",
   "execution_count": 6,
   "id": "2b5db4dd",
   "metadata": {},
   "outputs": [
    {
     "data": {
      "text/plain": [
       "dtype('O')"
      ]
     },
     "execution_count": 6,
     "metadata": {},
     "output_type": "execute_result"
    }
   ],
   "source": [
    "df['class'].dtype"
   ]
  },
  {
   "cell_type": "code",
   "execution_count": 7,
   "id": "b7dc957d",
   "metadata": {},
   "outputs": [
    {
     "data": {
      "text/plain": [
       "dtype('int64')"
      ]
     },
     "execution_count": 7,
     "metadata": {},
     "output_type": "execute_result"
    }
   ],
   "source": [
    "df['aa_000'].dtype"
   ]
  },
  {
   "cell_type": "code",
   "execution_count": 8,
   "id": "01f542ef",
   "metadata": {},
   "outputs": [
    {
     "data": {
      "text/plain": [
       "(25001, 171)"
      ]
     },
     "execution_count": 8,
     "metadata": {},
     "output_type": "execute_result"
    }
   ],
   "source": [
    "# check the shape of the dataframe, which gives number of rows and columns\n",
    "df.shape"
   ]
  },
  {
   "cell_type": "code",
   "execution_count": 9,
   "id": "ad1ca062",
   "metadata": {},
   "outputs": [
    {
     "data": {
      "text/plain": [
       "neg    23276\n",
       "pos     1725\n",
       "Name: class, dtype: int64"
      ]
     },
     "execution_count": 9,
     "metadata": {},
     "output_type": "execute_result"
    }
   ],
   "source": [
    "df['class'].value_counts()"
   ]
  },
  {
   "cell_type": "code",
   "execution_count": 16,
   "id": "525c6e55",
   "metadata": {},
   "outputs": [],
   "source": [
    "#lets find the numerical features and categorical features\n",
    "numerical_features = [feature for feature in df.columns if df[feature].dtype != 'O']\n",
    "categorical_features = [feature for feature in df.columns if df[feature].dtype == 'O']"
   ]
  },
  {
   "cell_type": "code",
   "execution_count": 18,
   "id": "140cf2ed",
   "metadata": {},
   "outputs": [
    {
     "name": "stdout",
     "output_type": "stream",
     "text": [
      "We have 170 numerical features: ['aa_000', 'ab_000', 'ac_000', 'ad_000', 'ae_000', 'af_000', 'ag_000', 'ag_001', 'ag_002', 'ag_003', 'ag_004', 'ag_005', 'ag_006', 'ag_007', 'ag_008', 'ag_009', 'ah_000', 'ai_000', 'aj_000', 'ak_000', 'al_000', 'am_0', 'an_000', 'ao_000', 'ap_000', 'aq_000', 'ar_000', 'as_000', 'at_000', 'au_000', 'av_000', 'ax_000', 'ay_000', 'ay_001', 'ay_002', 'ay_003', 'ay_004', 'ay_005', 'ay_006', 'ay_007', 'ay_008', 'ay_009', 'az_000', 'az_001', 'az_002', 'az_003', 'az_004', 'az_005', 'az_006', 'az_007', 'az_008', 'az_009', 'ba_000', 'ba_001', 'ba_002', 'ba_003', 'ba_004', 'ba_005', 'ba_006', 'ba_007', 'ba_008', 'ba_009', 'bb_000', 'bc_000', 'bd_000', 'be_000', 'bf_000', 'bg_000', 'bh_000', 'bi_000', 'bj_000', 'bk_000', 'bl_000', 'bm_000', 'bn_000', 'bo_000', 'bp_000', 'bq_000', 'br_000', 'bs_000', 'bt_000', 'bu_000', 'bv_000', 'bx_000', 'by_000', 'bz_000', 'ca_000', 'cb_000', 'cc_000', 'cd_000', 'ce_000', 'cf_000', 'cg_000', 'ch_000', 'ci_000', 'cj_000', 'ck_000', 'cl_000', 'cm_000', 'cn_000', 'cn_001', 'cn_002', 'cn_003', 'cn_004', 'cn_005', 'cn_006', 'cn_007', 'cn_008', 'cn_009', 'co_000', 'cp_000', 'cq_000', 'cr_000', 'cs_000', 'cs_001', 'cs_002', 'cs_003', 'cs_004', 'cs_005', 'cs_006', 'cs_007', 'cs_008', 'cs_009', 'ct_000', 'cu_000', 'cv_000', 'cx_000', 'cy_000', 'cz_000', 'da_000', 'db_000', 'dc_000', 'dd_000', 'de_000', 'df_000', 'dg_000', 'dh_000', 'di_000', 'dj_000', 'dk_000', 'dl_000', 'dm_000', 'dn_000', 'do_000', 'dp_000', 'dq_000', 'dr_000', 'ds_000', 'dt_000', 'du_000', 'dv_000', 'dx_000', 'dy_000', 'dz_000', 'ea_000', 'eb_000', 'ec_00', 'ed_000', 'ee_000', 'ee_001', 'ee_002', 'ee_003', 'ee_004', 'ee_005', 'ee_006', 'ee_007', 'ee_008', 'ee_009', 'ef_000', 'eg_000']\n",
      "We have 1 categorical features: ['class']\n"
     ]
    }
   ],
   "source": [
    "print(\"We have {} numerical features: {}\".format(len(numerical_features),numerical_features))\n",
    "print(\"We have {} categorical features: {}\".format(len(categorical_features),categorical_features))"
   ]
  },
  {
   "cell_type": "markdown",
   "id": "f60c6f77",
   "metadata": {},
   "source": [
    "**Dataset description**\n",
    "- We have 171 features totally, with 170 dependent features and 1 independent feature\n",
    "- 25001 total data points\n",
    "- target column \"class\" has two classes, positive and negative\n",
    "- dataset contains 170 numerical features and 1 categorical feature"
   ]
  },
  {
   "cell_type": "markdown",
   "id": "9d206ba6",
   "metadata": {},
   "source": [
    "## Checking the missing values"
   ]
  },
  {
   "cell_type": "code",
   "execution_count": 25,
   "id": "ed97b398",
   "metadata": {},
   "outputs": [
    {
     "name": "stdout",
     "output_type": "stream",
     "text": [
      "class         0\n",
      "aa_000        0\n",
      "ab_000    19262\n",
      "ac_000     1896\n",
      "ad_000     6840\n",
      "          ...  \n",
      "ee_007      261\n",
      "ee_008      261\n",
      "ee_009      261\n",
      "ef_000     1528\n",
      "eg_000     1528\n",
      "Length: 171, dtype: int64\n"
     ]
    }
   ],
   "source": [
    "missing = df.isna().sum()\n",
    "print(missing)"
   ]
  },
  {
   "cell_type": "code",
   "execution_count": 21,
   "id": "9a77ac1d",
   "metadata": {},
   "outputs": [
    {
     "data": {
      "text/plain": [
       "0        NaN\n",
       "1        2.0\n",
       "2        NaN\n",
       "3        0.0\n",
       "4        2.0\n",
       "        ... \n",
       "24996    0.0\n",
       "24997    NaN\n",
       "24998    NaN\n",
       "24999    NaN\n",
       "25000    NaN\n",
       "Name: ab_000, Length: 25001, dtype: float64"
      ]
     },
     "execution_count": 21,
     "metadata": {},
     "output_type": "execute_result"
    }
   ],
   "source": [
    "df['ab_000']"
   ]
  },
  {
   "cell_type": "code",
   "execution_count": null,
   "id": "c6aa38d7",
   "metadata": {},
   "outputs": [],
   "source": []
  },
  {
   "cell_type": "code",
   "execution_count": null,
   "id": "9746ba7a",
   "metadata": {},
   "outputs": [],
   "source": []
  },
  {
   "cell_type": "code",
   "execution_count": null,
   "id": "d747877e",
   "metadata": {},
   "outputs": [],
   "source": []
  },
  {
   "cell_type": "code",
   "execution_count": null,
   "id": "328dbdce",
   "metadata": {},
   "outputs": [],
   "source": []
  },
  {
   "cell_type": "code",
   "execution_count": null,
   "id": "b9575ae2",
   "metadata": {},
   "outputs": [],
   "source": []
  },
  {
   "cell_type": "code",
   "execution_count": null,
   "id": "ad176fec",
   "metadata": {},
   "outputs": [],
   "source": []
  },
  {
   "cell_type": "code",
   "execution_count": null,
   "id": "d824867e",
   "metadata": {},
   "outputs": [],
   "source": []
  },
  {
   "cell_type": "code",
   "execution_count": null,
   "id": "263abd56",
   "metadata": {},
   "outputs": [],
   "source": []
  },
  {
   "cell_type": "code",
   "execution_count": null,
   "id": "840669a4",
   "metadata": {},
   "outputs": [],
   "source": []
  },
  {
   "cell_type": "code",
   "execution_count": null,
   "id": "9878cde6",
   "metadata": {},
   "outputs": [],
   "source": []
  },
  {
   "cell_type": "code",
   "execution_count": null,
   "id": "54e24bb8",
   "metadata": {},
   "outputs": [],
   "source": []
  },
  {
   "cell_type": "code",
   "execution_count": null,
   "id": "1487d158",
   "metadata": {},
   "outputs": [],
   "source": []
  },
  {
   "cell_type": "code",
   "execution_count": null,
   "id": "f7ee428b",
   "metadata": {},
   "outputs": [],
   "source": []
  },
  {
   "cell_type": "code",
   "execution_count": null,
   "id": "16e3ddbf",
   "metadata": {},
   "outputs": [],
   "source": []
  }
 ],
 "metadata": {
  "kernelspec": {
   "display_name": "Python 3 (ipykernel)",
   "language": "python",
   "name": "python3"
  },
  "language_info": {
   "codemirror_mode": {
    "name": "ipython",
    "version": 3
   },
   "file_extension": ".py",
   "mimetype": "text/x-python",
   "name": "python",
   "nbconvert_exporter": "python",
   "pygments_lexer": "ipython3",
   "version": "3.9.12"
  }
 },
 "nbformat": 4,
 "nbformat_minor": 5
}
