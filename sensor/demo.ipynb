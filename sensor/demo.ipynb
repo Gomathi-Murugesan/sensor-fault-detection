{
 "cells": [
  {
   "cell_type": "code",
   "execution_count": 1,
   "metadata": {},
   "outputs": [],
   "source": [
    "import pandas as pd\n",
    "from scipy.stats import ks_2samp\n",
    "import numpy as np"
   ]
  },
  {
   "cell_type": "code",
   "execution_count": 15,
   "metadata": {},
   "outputs": [],
   "source": [
    "d1=np.arange(10)\n",
    "d2=np.arange(10)"
   ]
  },
  {
   "cell_type": "code",
   "execution_count": 5,
   "metadata": {},
   "outputs": [
    {
     "data": {
      "text/plain": [
       "array([0, 1, 2, 3, 4, 5, 6, 7, 8, 9])"
      ]
     },
     "execution_count": 5,
     "metadata": {},
     "output_type": "execute_result"
    }
   ],
   "source": [
    "d1"
   ]
  },
  {
   "cell_type": "code",
   "execution_count": 6,
   "metadata": {},
   "outputs": [
    {
     "data": {
      "text/plain": [
       "array([0, 1, 2, 3, 4, 5, 6, 7, 8, 9])"
      ]
     },
     "execution_count": 6,
     "metadata": {},
     "output_type": "execute_result"
    }
   ],
   "source": [
    "d2"
   ]
  },
  {
   "cell_type": "code",
   "execution_count": 16,
   "metadata": {},
   "outputs": [
    {
     "data": {
      "text/plain": [
       "KstestResult(statistic=0.0, pvalue=1.0)"
      ]
     },
     "execution_count": 16,
     "metadata": {},
     "output_type": "execute_result"
    }
   ],
   "source": [
    "ks_2samp(d1,d2) \n",
    "# here p-value is greater than 0.05, so we accept the null hypothesis.\n",
    "# Here null hypothesis is both d1 and d2 have the same distribution, no data drift."
   ]
  },
  {
   "cell_type": "code",
   "execution_count": 18,
   "metadata": {},
   "outputs": [],
   "source": [
    "d1=np.arange(20)\n",
    "d2=np.arange(10)"
   ]
  },
  {
   "cell_type": "code",
   "execution_count": 19,
   "metadata": {},
   "outputs": [
    {
     "data": {
      "text/plain": [
       "KstestResult(statistic=0.5, pvalue=0.062288669185220906)"
      ]
     },
     "execution_count": 19,
     "metadata": {},
     "output_type": "execute_result"
    }
   ],
   "source": [
    "ks_2samp(d1,d2) \n",
    "# here p-value is greater than 0.05, so we accept the null hypothesis.\n",
    "# Here null hypothesis is both d1 and d2 have the same distribution, no data drift."
   ]
  },
  {
   "cell_type": "code",
   "execution_count": 20,
   "metadata": {},
   "outputs": [
    {
     "data": {
      "text/plain": [
       "KstestResult(statistic=0.6666666666666666, pvalue=0.0013496110320238952)"
      ]
     },
     "execution_count": 20,
     "metadata": {},
     "output_type": "execute_result"
    }
   ],
   "source": [
    "d1=np.arange(30)\n",
    "d2=np.arange(10)\n",
    "ks_2samp(d1,d2) \n",
    "# here p-value is less than 0.05, so we reject the null hypothesis.\n",
    "# Here null hypothesis is both d1 and d2 have the same distribution \n",
    "# but we reject the null hypothesis, so both d1 and d2 have different distribution, hence there is data drift."
   ]
  },
  {
   "cell_type": "code",
   "execution_count": 21,
   "metadata": {},
   "outputs": [
    {
     "data": {
      "text/plain": [
       "KstestResult(statistic=1.0, pvalue=1.0825088224469026e-05)"
      ]
     },
     "execution_count": 21,
     "metadata": {},
     "output_type": "execute_result"
    }
   ],
   "source": [
    "d1=np.arange(20, 30)\n",
    "d2=np.arange(10)\n",
    "ks_2samp(d1,d2) \n",
    "# here p-value is less than 0.05, so we reject the null hypothesis.\n",
    "# Here null hypothesis is both d1 and d2 have the same distribution \n",
    "# but we reject the null hypothesis, so both d1 and d2 have different distribution, hence there is data drift."
   ]
  },
  {
   "cell_type": "code",
   "execution_count": 2,
   "metadata": {},
   "outputs": [],
   "source": [
    "train_file_path = \"D:/Data Science/Ineuron Industry Ready Project/sensor-fault-detection/artifact/11_16_2022_13_38_50/data_ingestion/ingested/train.csv\"\n",
    "test_file_path = \"D:/Data Science/Ineuron Industry Ready Project/sensor-fault-detection/artifact/11_16_2022_13_38_50/data_ingestion/ingested/test.csv\""
   ]
  },
  {
   "cell_type": "code",
   "execution_count": 3,
   "metadata": {},
   "outputs": [],
   "source": [
    "train_df = pd.read_csv(train_file_path)\n",
    "test_df = pd.read_csv(test_file_path)"
   ]
  },
  {
   "cell_type": "code",
   "execution_count": 5,
   "metadata": {},
   "outputs": [
    {
     "data": {
      "text/plain": [
       "Index(['class', 'aa_000', 'ab_000', 'ac_000', 'ad_000', 'ae_000', 'af_000',\n",
       "       'ag_000', 'ag_001', 'ag_002',\n",
       "       ...\n",
       "       'ee_002', 'ee_003', 'ee_004', 'ee_005', 'ee_006', 'ee_007', 'ee_008',\n",
       "       'ee_009', 'ef_000', 'eg_000'],\n",
       "      dtype='object', length=171)"
      ]
     },
     "execution_count": 5,
     "metadata": {},
     "output_type": "execute_result"
    }
   ],
   "source": [
    "train_df.columns"
   ]
  },
  {
   "cell_type": "code",
   "execution_count": 6,
   "metadata": {},
   "outputs": [
    {
     "data": {
      "text/plain": [
       "Index(['class', 'aa_000', 'ab_000', 'ac_000', 'ad_000', 'ae_000', 'af_000',\n",
       "       'ag_000', 'ag_001', 'ag_002',\n",
       "       ...\n",
       "       'ee_002', 'ee_003', 'ee_004', 'ee_005', 'ee_006', 'ee_007', 'ee_008',\n",
       "       'ee_009', 'ef_000', 'eg_000'],\n",
       "      dtype='object', length=171)"
      ]
     },
     "execution_count": 6,
     "metadata": {},
     "output_type": "execute_result"
    }
   ],
   "source": [
    "test_df.columns"
   ]
  },
  {
   "cell_type": "code",
   "execution_count": 7,
   "metadata": {},
   "outputs": [
    {
     "data": {
      "text/plain": [
       "KstestResult(statistic=0.010252729454109183, pvalue=0.790257631370229)"
      ]
     },
     "execution_count": 7,
     "metadata": {},
     "output_type": "execute_result"
    }
   ],
   "source": [
    "ks_2samp(train_df['aa_000'], test_df['aa_000'])\n",
    "# we calaculated p-value for one column between train and test df and they have same distribution and hence no drift"
   ]
  },
  {
   "cell_type": "code",
   "execution_count": 9,
   "metadata": {},
   "outputs": [],
   "source": [
    "# we can write a function to calculate dirft report for each and every columns\n",
    "# we can set the threshold p-value, 50% distribution will be better our for model training\n",
    "def get_drift_report(base_df, current_df, threshold=0.5):\n",
    "    report = {}\n",
    "    for column in base_df.columns:\n",
    "        d1 = base_df[column]\n",
    "        d2 = current_df[column]\n",
    "        distribution_p_value = ks_2samp(d1, d2)\n",
    "        if distribution_p_value.pvalue >= threshold:\n",
    "            is_drift_found = False\n",
    "        else:\n",
    "            is_drift_found = True\n",
    "        \n",
    "        report.update({\n",
    "                column:{\n",
    "                    'p-value': float(distribution_p_value.pvalue),\n",
    "                    'drift_status': is_drift_found\n",
    "                }\n",
    "            })\n",
    "    \n",
    "    return report"
   ]
  },
  {
   "cell_type": "code",
   "execution_count": 10,
   "metadata": {},
   "outputs": [
    {
     "name": "stdout",
     "output_type": "stream",
     "text": [
      "{'class': {'p-value': 1.0, 'drift_status': False}, 'aa_000': {'p-value': 0.790257631370229, 'drift_status': False}, 'ab_000': {'p-value': 0.9490887124957994, 'drift_status': False}, 'ac_000': {'p-value': 0.4383463326321604, 'drift_status': True}, 'ad_000': {'p-value': 0.7902144272478762, 'drift_status': False}, 'ae_000': {'p-value': 0.9999999999999711, 'drift_status': False}, 'af_000': {'p-value': 0.9999999999999972, 'drift_status': False}, 'ag_000': {'p-value': 1.0, 'drift_status': False}, 'ag_001': {'p-value': 1.0, 'drift_status': False}, 'ag_002': {'p-value': 0.9999999999759507, 'drift_status': False}, 'ag_003': {'p-value': 0.9999999998460661, 'drift_status': False}, 'ag_004': {'p-value': 0.39700918110026073, 'drift_status': True}, 'ag_005': {'p-value': 0.5216313374213328, 'drift_status': False}, 'ag_006': {'p-value': 0.9703576992362364, 'drift_status': False}, 'ag_007': {'p-value': 0.9672410016739486, 'drift_status': False}, 'ag_008': {'p-value': 0.6226794260013024, 'drift_status': False}, 'ag_009': {'p-value': 0.9518711032650116, 'drift_status': False}, 'ah_000': {'p-value': 0.6184757864479307, 'drift_status': False}, 'ai_000': {'p-value': 0.9999993580495979, 'drift_status': False}, 'aj_000': {'p-value': 0.9550749521055946, 'drift_status': False}, 'ak_000': {'p-value': 1.0, 'drift_status': False}, 'al_000': {'p-value': 0.5389940399815072, 'drift_status': False}, 'am_0': {'p-value': 0.6223496430749431, 'drift_status': False}, 'an_000': {'p-value': 0.5266575908289515, 'drift_status': False}, 'ao_000': {'p-value': 0.6652370040842863, 'drift_status': False}, 'ap_000': {'p-value': 0.7411081942595261, 'drift_status': False}, 'aq_000': {'p-value': 0.7868356065849701, 'drift_status': False}, 'ar_000': {'p-value': 1.0, 'drift_status': False}, 'as_000': {'p-value': 1.0, 'drift_status': False}, 'at_000': {'p-value': 0.9998451633351366, 'drift_status': False}, 'au_000': {'p-value': 1.0, 'drift_status': False}, 'av_000': {'p-value': 0.843015351528914, 'drift_status': False}, 'ax_000': {'p-value': 0.7120611595793185, 'drift_status': False}, 'ay_000': {'p-value': 1.0, 'drift_status': False}, 'ay_001': {'p-value': 1.0, 'drift_status': False}, 'ay_002': {'p-value': 1.0, 'drift_status': False}, 'ay_003': {'p-value': 1.0, 'drift_status': False}, 'ay_004': {'p-value': 0.9932453067108759, 'drift_status': False}, 'ay_005': {'p-value': 0.862978418964482, 'drift_status': False}, 'ay_006': {'p-value': 0.6243967536945316, 'drift_status': False}, 'ay_007': {'p-value': 0.7590862621552923, 'drift_status': False}, 'ay_008': {'p-value': 0.8129926727180825, 'drift_status': False}, 'ay_009': {'p-value': 0.9999999997866349, 'drift_status': False}, 'az_000': {'p-value': 0.7119422304671447, 'drift_status': False}, 'az_001': {'p-value': 0.8119326868145447, 'drift_status': False}, 'az_002': {'p-value': 0.989508958043626, 'drift_status': False}, 'az_003': {'p-value': 0.8335345472450789, 'drift_status': False}, 'az_004': {'p-value': 0.8122941405062049, 'drift_status': False}, 'az_005': {'p-value': 0.9256835017960221, 'drift_status': False}, 'az_006': {'p-value': 0.7564386318168923, 'drift_status': False}, 'az_007': {'p-value': 0.9985674326664127, 'drift_status': False}, 'az_008': {'p-value': 0.9999999999999999, 'drift_status': False}, 'az_009': {'p-value': 0.9999999999999828, 'drift_status': False}, 'ba_000': {'p-value': 0.9450211961267289, 'drift_status': False}, 'ba_001': {'p-value': 0.9319503459528927, 'drift_status': False}, 'ba_002': {'p-value': 0.9735318614004814, 'drift_status': False}, 'ba_003': {'p-value': 0.9277684461789197, 'drift_status': False}, 'ba_004': {'p-value': 0.999457526245311, 'drift_status': False}, 'ba_005': {'p-value': 0.945413972320304, 'drift_status': False}, 'ba_006': {'p-value': 0.6958962626935222, 'drift_status': False}, 'ba_007': {'p-value': 0.6133352136524349, 'drift_status': False}, 'ba_008': {'p-value': 0.7393482093162926, 'drift_status': False}, 'ba_009': {'p-value': 0.976639213611896, 'drift_status': False}, 'bb_000': {'p-value': 0.5057317598448766, 'drift_status': False}, 'bc_000': {'p-value': 0.9909416697357091, 'drift_status': False}, 'bd_000': {'p-value': 0.6168890917791227, 'drift_status': False}, 'be_000': {'p-value': 0.39586484761512264, 'drift_status': True}, 'bf_000': {'p-value': 0.659867793856818, 'drift_status': False}, 'bg_000': {'p-value': 0.661107110609533, 'drift_status': False}, 'bh_000': {'p-value': 0.7120874704309548, 'drift_status': False}, 'bi_000': {'p-value': 0.8963958144184816, 'drift_status': False}, 'bj_000': {'p-value': 0.9107472480910674, 'drift_status': False}, 'bk_000': {'p-value': 0.648014981634025, 'drift_status': False}, 'bl_000': {'p-value': 0.8588472429371464, 'drift_status': False}, 'bm_000': {'p-value': 0.9918569080163642, 'drift_status': False}, 'bn_000': {'p-value': 0.9999727429468728, 'drift_status': False}, 'bo_000': {'p-value': 0.999999700905486, 'drift_status': False}, 'bp_000': {'p-value': 0.9999998764524657, 'drift_status': False}, 'bq_000': {'p-value': 0.9993351665532112, 'drift_status': False}, 'br_000': {'p-value': 0.9999999877927451, 'drift_status': False}, 'bs_000': {'p-value': 0.6386549525566352, 'drift_status': False}, 'bt_000': {'p-value': 0.760205694639208, 'drift_status': False}, 'bu_000': {'p-value': 0.5208224953369025, 'drift_status': False}, 'bv_000': {'p-value': 0.5208224953369025, 'drift_status': False}, 'bx_000': {'p-value': 0.8391426334185003, 'drift_status': False}, 'by_000': {'p-value': 0.6342375017688253, 'drift_status': False}, 'bz_000': {'p-value': 0.8322345781783269, 'drift_status': False}, 'ca_000': {'p-value': 0.44202232907268235, 'drift_status': True}, 'cb_000': {'p-value': 0.9322415383693518, 'drift_status': False}, 'cc_000': {'p-value': 0.9589034543922268, 'drift_status': False}, 'cd_000': {'p-value': 1.0, 'drift_status': False}, 'ce_000': {'p-value': 0.9012026774540522, 'drift_status': False}, 'cf_000': {'p-value': 0.8402368560649328, 'drift_status': False}, 'cg_000': {'p-value': 0.9276152162011834, 'drift_status': False}, 'ch_000': {'p-value': 1.0, 'drift_status': False}, 'ci_000': {'p-value': 0.8414103170247924, 'drift_status': False}, 'cj_000': {'p-value': 0.9944604311977063, 'drift_status': False}, 'ck_000': {'p-value': 0.961627179668532, 'drift_status': False}, 'cl_000': {'p-value': 0.9983256902184118, 'drift_status': False}, 'cm_000': {'p-value': 0.8529177413218456, 'drift_status': False}, 'cn_000': {'p-value': 0.9999998677017676, 'drift_status': False}, 'cn_001': {'p-value': 0.999999999993019, 'drift_status': False}, 'cn_002': {'p-value': 0.6606367786900365, 'drift_status': False}, 'cn_003': {'p-value': 0.8821953818879527, 'drift_status': False}, 'cn_004': {'p-value': 0.9421172928583639, 'drift_status': False}, 'cn_005': {'p-value': 0.9312967727476668, 'drift_status': False}, 'cn_006': {'p-value': 0.6504419574083308, 'drift_status': False}, 'cn_007': {'p-value': 0.7883217222200135, 'drift_status': False}, 'cn_008': {'p-value': 0.9504924199149498, 'drift_status': False}, 'cn_009': {'p-value': 0.49662463129991663, 'drift_status': True}, 'co_000': {'p-value': 0.8498701608815227, 'drift_status': False}, 'cp_000': {'p-value': 0.8891494725790157, 'drift_status': False}, 'cq_000': {'p-value': 0.5208224953369025, 'drift_status': False}, 'cr_000': {'p-value': 0.9999962937651933, 'drift_status': False}, 'cs_000': {'p-value': 0.9816557069937265, 'drift_status': False}, 'cs_001': {'p-value': 0.9269955761129808, 'drift_status': False}, 'cs_002': {'p-value': 0.7935080747765898, 'drift_status': False}, 'cs_003': {'p-value': 0.9535774974012364, 'drift_status': False}, 'cs_004': {'p-value': 0.9049727697432857, 'drift_status': False}, 'cs_005': {'p-value': 0.9290672970890547, 'drift_status': False}, 'cs_006': {'p-value': 0.2308447474966524, 'drift_status': True}, 'cs_007': {'p-value': 0.6570848977616734, 'drift_status': False}, 'cs_008': {'p-value': 0.48459963914323045, 'drift_status': True}, 'cs_009': {'p-value': 1.0, 'drift_status': False}, 'ct_000': {'p-value': 0.7691049696498894, 'drift_status': False}, 'cu_000': {'p-value': 0.8272225530406495, 'drift_status': False}, 'cv_000': {'p-value': 0.9999937205367574, 'drift_status': False}, 'cx_000': {'p-value': 0.9751597101810789, 'drift_status': False}, 'cy_000': {'p-value': 0.9671324710244026, 'drift_status': False}, 'cz_000': {'p-value': 0.6884037885668208, 'drift_status': False}, 'da_000': {'p-value': 0.999999854781376, 'drift_status': False}, 'db_000': {'p-value': 0.9999973485584184, 'drift_status': False}, 'dc_000': {'p-value': 0.9999529881914767, 'drift_status': False}, 'dd_000': {'p-value': 0.6491863185100626, 'drift_status': False}, 'de_000': {'p-value': 0.9346964410406485, 'drift_status': False}, 'df_000': {'p-value': 1.0, 'drift_status': False}, 'dg_000': {'p-value': 1.0, 'drift_status': False}, 'dh_000': {'p-value': 0.9999545254098837, 'drift_status': False}, 'di_000': {'p-value': 0.9974141254197729, 'drift_status': False}, 'dj_000': {'p-value': 1.0, 'drift_status': False}, 'dk_000': {'p-value': 1.0, 'drift_status': False}, 'dl_000': {'p-value': 1.0, 'drift_status': False}, 'dm_000': {'p-value': 1.0, 'drift_status': False}, 'dn_000': {'p-value': 0.6053397162437755, 'drift_status': False}, 'do_000': {'p-value': 0.9236740226126463, 'drift_status': False}, 'dp_000': {'p-value': 0.8157469461757538, 'drift_status': False}, 'dq_000': {'p-value': 0.9999865297463029, 'drift_status': False}, 'dr_000': {'p-value': 0.9999972324486146, 'drift_status': False}, 'ds_000': {'p-value': 0.7654160608825796, 'drift_status': False}, 'dt_000': {'p-value': 0.6234443888022938, 'drift_status': False}, 'du_000': {'p-value': 0.41340009080393747, 'drift_status': True}, 'dv_000': {'p-value': 0.5701102075021214, 'drift_status': False}, 'dx_000': {'p-value': 0.9999997859890507, 'drift_status': False}, 'dy_000': {'p-value': 0.9999957904648881, 'drift_status': False}, 'dz_000': {'p-value': 1.0, 'drift_status': False}, 'ea_000': {'p-value': 1.0, 'drift_status': False}, 'eb_000': {'p-value': 0.6650045827930295, 'drift_status': False}, 'ec_00': {'p-value': 0.4960150446987446, 'drift_status': True}, 'ed_000': {'p-value': 0.6322821062310127, 'drift_status': False}, 'ee_000': {'p-value': 0.8976536737862876, 'drift_status': False}, 'ee_001': {'p-value': 0.9189820706706835, 'drift_status': False}, 'ee_002': {'p-value': 0.9190309602783998, 'drift_status': False}, 'ee_003': {'p-value': 0.9433876360807557, 'drift_status': False}, 'ee_004': {'p-value': 0.9924429196259037, 'drift_status': False}, 'ee_005': {'p-value': 0.9904261840282927, 'drift_status': False}, 'ee_006': {'p-value': 0.7707643811375022, 'drift_status': False}, 'ee_007': {'p-value': 0.8586334484954292, 'drift_status': False}, 'ee_008': {'p-value': 0.905549916092152, 'drift_status': False}, 'ee_009': {'p-value': 0.8698380881081479, 'drift_status': False}, 'ef_000': {'p-value': 1.0, 'drift_status': False}, 'eg_000': {'p-value': 1.0, 'drift_status': False}}\n"
     ]
    }
   ],
   "source": [
    "drift_report = get_drift_report(train_df, test_df)\n",
    "print(drift_report)"
   ]
  },
  {
   "cell_type": "code",
   "execution_count": 6,
   "metadata": {},
   "outputs": [],
   "source": [
    "from sensor.utils.main_utils import write_yaml_file\n",
    "import os"
   ]
  },
  {
   "cell_type": "code",
   "execution_count": 8,
   "metadata": {},
   "outputs": [],
   "source": [
    "write_yaml_file(file_path=os.path.join(os.getcwd(),\"report.yaml\"), content = drift_report, replace=True)"
   ]
  },
  {
   "cell_type": "code",
   "execution_count": null,
   "metadata": {},
   "outputs": [],
   "source": []
  },
  {
   "cell_type": "code",
   "execution_count": null,
   "metadata": {},
   "outputs": [],
   "source": []
  },
  {
   "cell_type": "code",
   "execution_count": null,
   "metadata": {},
   "outputs": [],
   "source": []
  },
  {
   "cell_type": "code",
   "execution_count": null,
   "metadata": {},
   "outputs": [],
   "source": []
  }
 ],
 "metadata": {
  "kernelspec": {
   "display_name": "Python 3.8.0 (conda)",
   "language": "python",
   "name": "python3"
  },
  "language_info": {
   "codemirror_mode": {
    "name": "ipython",
    "version": 3
   },
   "file_extension": ".py",
   "mimetype": "text/x-python",
   "name": "python",
   "nbconvert_exporter": "python",
   "pygments_lexer": "ipython3",
   "version": "3.8.0"
  },
  "orig_nbformat": 4,
  "vscode": {
   "interpreter": {
    "hash": "856bdfe6b7ecab90d53fc464eea2af15499e3813f43cfba2eec4695dfec1fee8"
   }
  }
 },
 "nbformat": 4,
 "nbformat_minor": 2
}
